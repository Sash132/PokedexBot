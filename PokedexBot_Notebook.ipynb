{
 "cells": [
  {
   "cell_type": "markdown",
   "metadata": {},
   "source": [
    "# PROJECT DESCRIPTION"
   ]
  },
  {
   "cell_type": "markdown",
   "metadata": {},
   "source": [
    "The project I chose to create is a further exploration of the topic \"Chatbots\" covered in A3. My specific chatbot is a text-to-text representation of the Kanto (Generation 1) Pokedex. \n",
    "\n",
    "I gathered information about the 151 Pokemon from multiple CSV files and websites (serebii.net and bulbapedia.bulbagarden.net) and put it all into a singular CSV file. The bot accesses this CSV file through pandas and allows the user to prompt it for very specific information about each Pokemon such as its number, type, stats, BST, legendary status, height, weight, base happiness, capture rate, classification, and abilities.\n",
    "    \n",
    "The bot is made so that it can be used completely locally without having to look up its various commands or methods to make it work. This is done by encapsulating all of the functions and only prompting the user for certain words.\n",
    "    \n",
    "This bot was made without utilizing classes in any manner to see the efficiencies behind a function-powered class and to see these individual functions could interact with each other to essentially make the equivalent of a class.\n",
    "    \n",
    "Enjoy using the Generation 1 Pokedex Bot!"
   ]
  },
  {
   "cell_type": "markdown",
   "metadata": {},
   "source": [
    "### RUNNING THE CODE"
   ]
  },
  {
   "cell_type": "markdown",
   "metadata": {},
   "source": [
    "In order to run the Pokedex Bot, run both of the cells below in descending order. In other words, run the cell with the imports first and then run the cell that has the activate_pokedex_bot() function.\n",
    "\n",
    "All directions on how to make the Bot function will become available when it actually starts running."
   ]
  },
  {
   "cell_type": "code",
   "execution_count": 1,
   "metadata": {},
   "outputs": [],
   "source": [
    "#imports all code from the other two files\n",
    "from my_module.Pokedex_Bot_Functions import *\n",
    "from my_module.Pokedex_Bot_Test_Functions import *"
   ]
  },
  {
   "cell_type": "code",
   "execution_count": 2,
   "metadata": {},
   "outputs": [
    {
     "name": "stdout",
     "output_type": "stream",
     "text": [
      "Welcome to the Kanto (Generation 1) Pokedex!\n",
      "Which Pokemon would you like to look up?\n",
      "Type in 'quit' at any point to leave the Dex.\n",
      "\n",
      ">cahr\n",
      "This is not a Pokemon that exists in the Kanto Dex.\n",
      "Please type in another Pokemon's name.\n",
      "\n",
      ">charizard\n",
      "Which of the following things would you like to know about this Pokemon?\n",
      "Options: Number, Type, Stats, BST, Legendary, Height, Weight, Happiness, Capture, Classification, Abilities\n",
      "Type in 'other' at any point to look up another Pokemon.\n",
      "Type in 'quit' at any point to leave the Dex.\n",
      "\n",
      ">other\n",
      "Which other Pokemon would you like to look up?\n",
      "\n",
      ">nidoranmale\n",
      "Which of the following things would you like to know about this Pokemon?\n",
      "Options: Number, Type, Stats, BST, Legendary, Height, Weight, Happiness, Capture, Classification, Abilities\n",
      "Type in 'other' at any point to look up another Pokemon.\n",
      "Type in 'quit' at any point to leave the Dex.\n",
      "\n",
      ">other\n",
      "Which other Pokemon would you like to look up?\n",
      "\n",
      ">nidoranfemale\n",
      "Which of the following things would you like to know about this Pokemon?\n",
      "Options: Number, Type, Stats, BST, Legendary, Height, Weight, Happiness, Capture, Classification, Abilities\n",
      "Type in 'other' at any point to look up another Pokemon.\n",
      "Type in 'quit' at any point to leave the Dex.\n",
      "\n",
      ">type\n",
      "Nidoranfemale's typing is Poison.\n",
      ">quit\n",
      "\n",
      "Have fun on the rest of your Pokemon journey!\n",
      "Goodbye!\n",
      "\n"
     ]
    }
   ],
   "source": [
    "#main function that is used to make the Pokedex Bot run\n",
    "activate_pokedex_bot()"
   ]
  },
  {
   "cell_type": "markdown",
   "metadata": {},
   "source": [
    "### TESTING THE CODE"
   ]
  },
  {
   "cell_type": "markdown",
   "metadata": {},
   "source": [
    "The test_all_functions() below will run through all test cases from the Pokedex_Bot_Test_Functions file that were made for the functions within the Pokedex_Bot_Functions file."
   ]
  },
  {
   "cell_type": "code",
   "execution_count": 4,
   "metadata": {},
   "outputs": [],
   "source": [
    "test_all_functions()"
   ]
  },
  {
   "cell_type": "markdown",
   "metadata": {},
   "source": [
    "### REASONING FOR EXTRA CREDIT"
   ]
  },
  {
   "cell_type": "markdown",
   "metadata": {},
   "source": [
    "I believe that I deserve extra credit because I delved into the different complexities surrounding the documentation for pandas. Although we slightly covered pandas in lecture, the extent of it was the theory behind what it would be utilized for. We never explicitly covered how to actually implement it through code. So, over the course of some hours, I read through the documentation of how to use pandas because my project had a lengthy amount of information that would have been rather annoying to input one-by-one into dictionaries. In the end, this resulted in me being able to create a CSV file and create dictionaries directly using the information present in the file itself. This allowed me to learn something beyond what was covered and taught in the course and it is why I think I deserve some extra credit for the effort I put in to understand pandas."
   ]
  },
  {
   "cell_type": "markdown",
   "metadata": {},
   "source": [
    "### GITHUB EXTRA CREDIT"
   ]
  },
  {
   "cell_type": "markdown",
   "metadata": {},
   "source": [
    "https://github.com/Sash132/PokedexBot"
   ]
  }
 ],
 "metadata": {
  "kernelspec": {
   "display_name": "Python 3",
   "language": "python",
   "name": "python3"
  },
  "language_info": {
   "codemirror_mode": {
    "name": "ipython",
    "version": 3
   },
   "file_extension": ".py",
   "mimetype": "text/x-python",
   "name": "python",
   "nbconvert_exporter": "python",
   "pygments_lexer": "ipython3",
   "version": "3.6.7"
  }
 },
 "nbformat": 4,
 "nbformat_minor": 2
}
